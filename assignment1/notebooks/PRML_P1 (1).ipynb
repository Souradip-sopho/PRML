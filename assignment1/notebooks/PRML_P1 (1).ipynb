{
 "cells": [
  {
   "cell_type": "markdown",
   "metadata": {},
   "source": [
    "# Optical Recognition of Handwritten Digits Dataset(UCI repository)"
   ]
  },
  {
   "cell_type": "markdown",
   "metadata": {},
   "source": [
    "This is the code for problem P1. "
   ]
  },
  {
   "cell_type": "code",
   "execution_count": 1,
   "metadata": {
    "collapsed": true
   },
   "outputs": [],
   "source": [
    "import numpy as np\n",
    "import math\n",
    "from numpy.linalg import inv"
   ]
  },
  {
   "cell_type": "markdown",
   "metadata": {},
   "source": [
    "Here, the probability density function of a multivariate gaussian random variable is defined in the function 'gaussian' whose parameters are $\\mu$ and $\\Sigma$. "
   ]
  },
  {
   "cell_type": "code",
   "execution_count": 2,
   "metadata": {
    "collapsed": true
   },
   "outputs": [],
   "source": [
    "def gaussian(x,mu,sigma):\n",
    "    n=x.shape\n",
    "    x_bar=np.subtract(x,mu)\n",
    "    x_bar_vec=np.array([x_bar])\n",
    "    sigma_inv=np.linalg.inv(sigma)\n",
    "    index=np.matmul(x_bar_vec,np.matmul(sigma_inv,x_bar_vec.T))\n",
    "    num=math.exp(-0.5*index)\n",
    "    den=(((2*np.pi)**(n[0]))*np.linalg.det(sigma))**0.5\n",
    "    return num/den"
   ]
  },
  {
   "cell_type": "markdown",
   "metadata": {},
   "source": [
    "The training dataset is loaded from the file \"P1_data_train.csv\" which is present the directory \"P1_data/P1_data/\"."
   ]
  },
  {
   "cell_type": "code",
   "execution_count": 3,
   "metadata": {
    "collapsed": true
   },
   "outputs": [],
   "source": [
    "data=np.genfromtxt('P1_data/P1_data/P1_data_train.csv',delimiter=',')\n",
    "labels=np.genfromtxt('P1_data/P1_data/P1_labels_train.csv',delimiter=',')\n",
    "size=data.shape"
   ]
  },
  {
   "cell_type": "code",
   "execution_count": 4,
   "metadata": {
    "collapsed": true
   },
   "outputs": [],
   "source": [
    "count_five=0\n",
    "mu_five=np.zeros(size[1])\n",
    "sigma_five=np.zeros((size[1],size[1]))\n",
    "count_six=0\n",
    "mu_six=np.zeros(size[1])\n",
    "sigma_six=np.zeros((size[1],size[1]))"
   ]
  },
  {
   "cell_type": "markdown",
   "metadata": {},
   "source": [
    "Here, the training data corresponding to handwritten digits 5 and 6 are described using Multivariate Gaussian distributions with parametric means $\\mu _{5}$,$\\mu _{6}$ and covariance matrices $\\Sigma _{5}$,$\\Sigma _{6}$.These parameters are first intialized to zero vectors.<br>\n",
    "From the Maximum Likehood Estimation ,the estimates of the parameters $\\mu _{5}$ & $\\mu _{6}$ are given by the formula<br> \n",
    "$$\\mu _{5} =  \\Sigma  x _{i} / n _{5}$$  where $x _{i}$ is the ith example such that label of $x _{i}$ i.e $L(x _{i})$ = 5, n5 = number of datapoints in class 5  &<br>\n",
    "$$\\mu _{6} =  \\Sigma  x _{i} / n _{6}$$ where $x _{i}$ is the ith example such that label of $x _{i}$ i.e $L(x _{i})$ = 6, $n_{6}$ = number of datapoints in class 6.<br>\n",
    "Also the estimates of the parameters $\\Sigma_{5}$ & $\\Sigma_{6}$ are given by the formula <br>\n",
    "$$\\Sigma_{5} = \\Sigma ( x _{i} – \\mu _{5} )( x _{i} – \\mu _{5} )^T / (n_{5}-1)$$ where $x _{i}$ is the ith example such that label of $x _{i}$ i.e $L(x _{i})$ = 5<br>\n",
    "$$\\Sigma_{6} = \\Sigma ( x _{i} – \\mu _{6} )( x _{i} – \\mu _{6} )^T / (n_{6}-1)$$ where $x _{i}$ is the ith example such that label of $x _{i}$ i.e $L(x _{i})$ = 6<br>"
   ]
  },
  {
   "cell_type": "code",
   "execution_count": 5,
   "metadata": {
    "collapsed": true
   },
   "outputs": [],
   "source": [
    "for i in range(size[0]):\n",
    "    if labels[i]==5:\n",
    "        mu_five=np.add(mu_five,data[i])\n",
    "        count_five+=1\n",
    "    else:\n",
    "        mu_six=np.add(mu_six,data[i])\n",
    "        count_six+=1\n",
    "mu_five=mu_five/count_five\n",
    "mu_six=mu_six/count_six"
   ]
  },
  {
   "cell_type": "code",
   "execution_count": 6,
   "metadata": {},
   "outputs": [],
   "source": [
    "for i in range(size[0]):\n",
    "    if labels[i]==5:\n",
    "        x=np.subtract(data[i],mu_five)\n",
    "        x_vec=np.array([x])\n",
    "        pd=np.matmul(x_vec.T,x_vec)\n",
    "        sigma_five=np.add(sigma_five,pd)\n",
    "    else:\n",
    "        x=np.subtract(data[i],mu_six)\n",
    "        x_vec=np.array([x])\n",
    "        pd=np.multiply(x_vec.T,x_vec)\n",
    "        sigma_six=np.add(sigma_six,pd)\n",
    "sigma_five=sigma_five/(count_five-1)\n",
    "sigma_six=sigma_six/(count_six-1)"
   ]
  },
  {
   "cell_type": "markdown",
   "metadata": {},
   "source": [
    "The apriori probabilities $\\pi_{5}$ and $\\pi_{6}$ are estimated as follows:<br>\n",
    "$\\pi_{5}$=(Number of examples in Class 5)/Total number of examples<br>\n",
    "$\\pi_{6}$=(Number of examples in Class 6)/Total number of examples<br>"
   ]
  },
  {
   "cell_type": "code",
   "execution_count": 7,
   "metadata": {
    "collapsed": true
   },
   "outputs": [],
   "source": [
    "prob_C5=count_five/(count_five+count_six)\n",
    "prob_C6=1-prob_C5"
   ]
  },
  {
   "cell_type": "markdown",
   "metadata": {},
   "source": [
    "The test dataset is loaded from the file \"P1_data_test.csv\" which is present the directory \"P1_data/P1_data/\"."
   ]
  },
  {
   "cell_type": "code",
   "execution_count": 8,
   "metadata": {
    "collapsed": true
   },
   "outputs": [],
   "source": [
    "test_data=np.genfromtxt('P1_data/P1_data/P1_data_test.csv',delimiter=',')\n",
    "test_labels=np.genfromtxt('P1_data/P1_data/P1_labels_test.csv',delimiter=',')\n",
    "test_size=test_data.shape"
   ]
  },
  {
   "cell_type": "markdown",
   "metadata": {},
   "source": [
    "From the estimated parameters of the two Normal distributions for class 5 and class 6,the test data is classified using the Bayesian Classfication criterion:<br>\n",
    "If $\\pi_{5}.N(x/\\mu_{5},\\Sigma_{5})>\\pi_{6}.N(x/\\mu_{6},\\Sigma_{6})$ choose class 5 else choose class 6<br>\n",
    "In the first case,we take the parameters $\\Sigma _{5}$,$\\Sigma _{6}$ to be same as the empirical covariance matrices as calculated fron the training data.<br>\n",
    "From the predicted labels,we also calculate the confusion matrix. "
   ]
  },
  {
   "cell_type": "code",
   "execution_count": 9,
   "metadata": {},
   "outputs": [
    {
     "name": "stdout",
     "output_type": "stream",
     "text": [
      "Confusion Matrix: \n",
      "[[106  27]\n",
      " [ 49 151]]\n",
      "False Negative Rate: 0.3161290322580645\n",
      "False Positive Rate: 0.15168539325842698\n"
     ]
    }
   ],
   "source": [
    "### Empirical Case ###\n",
    "tp=0\n",
    "tn=0\n",
    "fp=0\n",
    "fn=0\n",
    "predicted_labels=np.zeros(test_size[0])\n",
    "for i in range(test_size[0]):\n",
    "    if prob_C5*gaussian(test_data[i],mu_five,sigma_five)>prob_C6*gaussian(test_data[i],mu_six,sigma_six):\n",
    "        predicted_labels[i]=5\n",
    "        if(predicted_labels[i]==test_labels[i]):\n",
    "            tp+=1\n",
    "        else:\n",
    "            fp+=1\n",
    "    else:\n",
    "        predicted_labels[i]=6\n",
    "        if(predicted_labels[i]==test_labels[i]):\n",
    "            tn+=1\n",
    "        else:\n",
    "            fn+=1\n",
    "\n",
    "conf_mat=[[tp ,fp],[fn,tn]]\n",
    "print(\"Confusion Matrix: \")\n",
    "print(np.array(conf_mat))\n",
    "false_pos_rate=fp/(fp+tn)\n",
    "false_neg_rate=fn/(tp+fn)\n",
    "print(\"False Negative Rate: \",end=\"\")\n",
    "print(false_neg_rate)\n",
    "print(\"False Positive Rate: \",end=\"\")\n",
    "print(false_pos_rate)"
   ]
  },
  {
   "cell_type": "markdown",
   "metadata": {},
   "source": [
    "For this case,the misclassification rate for class 5 is **15.168 %** and that for class 6 is **31.613 %**.<br>\n",
    "Next ,we take the case where the covariance matrices for the two classes are same i.e. $\\Sigma _{5}=\\Sigma _{6}=\\Sigma$ where $\\Sigma$ is calculated as the covariance matrix of the entire data."
   ]
  },
  {
   "cell_type": "code",
   "execution_count": 10,
   "metadata": {},
   "outputs": [
    {
     "name": "stdout",
     "output_type": "stream",
     "text": [
      "Confusion Matrix:\n",
      "[[136  28]\n",
      " [ 19 150]]\n",
      "False Negative Rate:0.12258064516129032\n",
      "False Positive Rate:0.15730337078651685\n"
     ]
    }
   ],
   "source": [
    "### Equal Sigma Case ####\n",
    "tp=0\n",
    "tn=0\n",
    "fp=0\n",
    "fn=0\n",
    "\n",
    "count=0\n",
    "common_mu=np.zeros(size[1])\n",
    "common_sigma=np.zeros((size[1],size[1]))\n",
    "for i in range(size[0]):\n",
    "    common_mu=np.add(common_mu,data[i])\n",
    "    count+=1\n",
    "common_mu=common_mu/count\n",
    "for i in range(size[0]):\n",
    "    X=np.subtract(data[i],common_mu)\n",
    "    X_vec=np.array([X])\n",
    "    pd=np.matmul(X_vec.T,X_vec)\n",
    "    common_sigma=np.add(common_sigma,pd)\n",
    "common_sigma=common_sigma/(count-1)\n",
    "\n",
    "predicted_labels=np.zeros(test_size[0])\n",
    "for i in range(test_size[0]):\n",
    "    if prob_C5*gaussian(test_data[i],mu_five,common_sigma)>prob_C6*gaussian(test_data[i],mu_six,common_sigma):\n",
    "        predicted_labels[i]=5\n",
    "        if(predicted_labels[i]==test_labels[i]):\n",
    "            tp+=1\n",
    "        else:\n",
    "            fp+=1\n",
    "    else:\n",
    "        predicted_labels[i]=6\n",
    "        if(predicted_labels[i]==test_labels[i]):\n",
    "            tn+=1\n",
    "        else:\n",
    "            fn+=1\n",
    "\n",
    "conf_mat=[[tp ,fp],[fn,tn]]\n",
    "print(\"Confusion Matrix:\")\n",
    "print(np.array(conf_mat))\n",
    "false_pos_rate=fp/(fp+tn)\n",
    "false_neg_rate=fn/(tp+fn)\n",
    "print(\"False Negative Rate:\",end=\"\")\n",
    "print(false_neg_rate)\n",
    "print(\"False Positive Rate:\",end=\"\")\n",
    "print(false_pos_rate)"
   ]
  },
  {
   "cell_type": "markdown",
   "metadata": {},
   "source": [
    "In this case,the misclassification rate for class 5 is **15.73 %** and that for class 6 is **12.258 %**.<br>\n",
    "Next, we take another case where the covariance matrices of the two classes are equal but are diagonal matrices."
   ]
  },
  {
   "cell_type": "code",
   "execution_count": 11,
   "metadata": {},
   "outputs": [
    {
     "name": "stdout",
     "output_type": "stream",
     "text": [
      "Confusion Matrix:\n",
      "[[134  40]\n",
      " [ 21 138]]\n",
      "False Negative Rate:0.13548387096774195\n",
      "False Positive Rate:0.2247191011235955\n"
     ]
    }
   ],
   "source": [
    "### Diagonal Sigma Case ####\n",
    "tp=0\n",
    "tn=0\n",
    "fp=0\n",
    "fn=0\n",
    "\n",
    "for i in range(size[1]):\n",
    "    for j in range(size[1]):\n",
    "        if i!=j:\n",
    "            common_sigma[i][j]=0\n",
    "predicted_labels=np.zeros(test_size[0])\n",
    "for i in range(test_size[0]):\n",
    "    if prob_C5*gaussian(test_data[i],mu_five,common_sigma)>prob_C6*gaussian(test_data[i],mu_six,common_sigma):\n",
    "        predicted_labels[i]=5\n",
    "        if(predicted_labels[i]==test_labels[i]):\n",
    "            tp+=1\n",
    "        else:\n",
    "            fp+=1\n",
    "    else:\n",
    "        predicted_labels[i]=6\n",
    "        if(predicted_labels[i]==test_labels[i]):\n",
    "            tn+=1\n",
    "        else:\n",
    "            fn+=1\n",
    "\n",
    "conf_mat=[[tp ,fp],[fn,tn]]\n",
    "print(\"Confusion Matrix:\")\n",
    "print(np.array(conf_mat))\n",
    "false_pos_rate=fp/(fp+tn)\n",
    "false_neg_rate=fn/(tp+fn)\n",
    "print(\"False Negative Rate:\",end=\"\")\n",
    "print(false_neg_rate)\n",
    "print(\"False Positive Rate:\",end=\"\")\n",
    "print(false_pos_rate)"
   ]
  },
  {
   "cell_type": "markdown",
   "metadata": {},
   "source": [
    "For this case,the misclassification rate for class 5 is **22.472 %** and that for class 6 is **13.548 %**."
   ]
  }
 ],
 "metadata": {
  "kernelspec": {
   "display_name": "Python 3",
   "language": "python",
   "name": "python3"
  },
  "language_info": {
   "codemirror_mode": {
    "name": "ipython",
    "version": 3
   },
   "file_extension": ".py",
   "mimetype": "text/x-python",
   "name": "python",
   "nbconvert_exporter": "python",
   "pygments_lexer": "ipython3",
   "version": "3.6.3"
  }
 },
 "nbformat": 4,
 "nbformat_minor": 2
}
